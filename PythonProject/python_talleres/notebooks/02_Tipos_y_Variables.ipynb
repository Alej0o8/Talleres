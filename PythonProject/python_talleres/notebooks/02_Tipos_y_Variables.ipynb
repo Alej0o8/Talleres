{
 "cells": [
  {
   "cell_type": "markdown",
   "metadata": {},
   "source": [
    "# 2) Tipos de datos y variables\n",
    "\n",
    "## ¿Qué son?\n",
    "Los **tipos** definen la clase de datos (entero, flotante, texto, booleano). Las **variables** son nombres que apuntan a valores en memoria.\n",
    "\n",
    "## ¿Para qué se usan?\n",
    "Para **representar y transformar información**. Python es *tipado dinámico*: el tipo se asocia al valor, no al nombre.\n",
    "\n",
    "## Tipos básicos\n",
    "- `int`, `float`, `str`, `bool`\n",
    "- Mutabilidad: `str` es inmutable, `list` es mutable.\n",
    "- Conversión de tipos: `int(\"42\")`, `float(\"3.14\")`, `str(99)`.\n"
   ]
  },
  {
   "cell_type": "code",
   "execution_count": null,
   "metadata": {},
   "outputs": [],
   "source": [
    "edad = 28\n",
    "altura = 1.72\n",
    "nombre = \"Ada\"\n",
    "es_estudiante = True\n",
    "\n",
    "print(type(edad), type(altura), type(nombre), type(es_estudiante))\n",
    "print(f\"{nombre} mide {altura} m y tiene {edad} años. ¿Estudia? {es_estudiante}\")\n"
   ]
  },
  {
   "cell_type": "markdown",
   "metadata": {},
   "source": [
    "### Ejercicios\n",
    "- E1: Declara tres variables de distintos tipos y muéstralas con su tipo.\n",
    "- E2: Convierte `\"99\"` a entero y súmalo con 1.\n",
    "- E3: Pide por `input()` nombre y edad, y muestra un mensaje formateado.\n",
    "\n",
    "### Reto extra\n",
    "Calcula el **IMC**: pide peso (kg) y altura (m), imprime el resultado con dos decimales.\n"
   ]
  },
  {
   "cell_type": "code",
   "execution_count": 1,
   "id": "90e803ca",
   "metadata": {},
   "outputs": [
    {
     "name": "stdout",
     "output_type": "stream",
     "text": [
      "42 es de tipo <class 'int'>\n",
      "1.6 es de tipo <class 'float'>\n",
      "Alemania es de tipo <class 'str'>\n"
     ]
    }
   ],
   "source": [
    "# tipo entero (int)\n",
    "dia = 42  \n",
    "\n",
    "# tipo decimal (float)          \n",
    "medida = 1.60  \n",
    "\n",
    "# tipo cadena (str)\n",
    "pais = \"Alemania\"  \n",
    "\n",
    "print(dia, \"es de tipo\", type(dia))\n",
    "print(medida, \"es de tipo\", type(medida))\n",
    "print(pais, \"es de tipo\", type(pais))"
   ]
  },
  {
   "cell_type": "code",
   "execution_count": 2,
   "id": "5c871f3d",
   "metadata": {},
   "outputs": [
    {
     "name": "stdout",
     "output_type": "stream",
     "text": [
      "Numero cambiado a formato int: 99\n",
      "La suma del numero anterior mas 1 es: 100\n"
     ]
    }
   ],
   "source": [
    "numero = \"99\"\n",
    "entero = int(numero)\n",
    "suma = entero+1\n",
    "print(\"Numero cambiado a formato int:\",numero)\n",
    "print(\"La suma del numero anterior mas 1 es:\",suma)"
   ]
  },
  {
   "cell_type": "code",
   "execution_count": null,
   "id": "11203922",
   "metadata": {},
   "outputs": [],
   "source": [
    "nombre = input(\"Escribe tu nombre: \")\n",
    "edad = input(\"Escribe tu edad: \")\n",
    "print(\"Hola\",nombre, \"tienes\",edad, \"años.\")"
   ]
  },
  {
   "cell_type": "code",
   "execution_count": null,
   "metadata": {},
   "outputs": [],
   "source": [
    "# Plantilla para IMC\n",
    "peso = 70.0\n",
    "altura = 1.75\n",
    "imc = peso / (altura ** 2)\n",
    "print(f\"IMC: {imc:.2f}\")\n"
   ]
  }
 ],
 "metadata": {
  "kernelspec": {
   "display_name": "Python 3",
   "language": "python",
   "name": "python3"
  },
  "language_info": {
   "codemirror_mode": {
    "name": "ipython",
    "version": 3
   },
   "file_extension": ".py",
   "mimetype": "text/x-python",
   "name": "python",
   "nbconvert_exporter": "python",
   "pygments_lexer": "ipython3",
   "version": "3.11.9"
  }
 },
 "nbformat": 4,
 "nbformat_minor": 5
}
