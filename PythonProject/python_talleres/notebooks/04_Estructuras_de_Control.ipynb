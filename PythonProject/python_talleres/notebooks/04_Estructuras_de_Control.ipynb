{
 "cells": [
  {
   "cell_type": "markdown",
   "metadata": {},
   "source": [
    "# 4) Estructuras de control: `if`, `for`, `while`\n",
    "\n",
    "## ¿Qué son?\n",
    "Mecanismos para **tomar decisiones** (`if`) y **repetir acciones** (`for`, `while`).\n",
    "\n",
    "## ¿Para qué se usan?\n",
    "Para **controlar el flujo** de un programa según condiciones y colecciones.\n",
    "\n",
    "## Ideas clave\n",
    "- La **indentación** define bloques.\n",
    "- `for` itera sobre secuencias; `range(n)` genera 0..n-1.\n",
    "- `while` repite mientras la condición sea verdadera.\n",
    "- `break`/`continue` controlan el bucle.\n"
   ]
  },
  {
   "cell_type": "code",
   "execution_count": null,
   "metadata": {},
   "outputs": [],
   "source": [
    "# Par o impar\n",
    "n = 7\n",
    "if n % 2 == 0:\n",
    "    print(\"Par\")\n",
    "else:\n",
    "    print(\"Impar\")\n",
    "\n",
    "# Suma 1..10\n",
    "total = 0\n",
    "for i in range(1, 11):\n",
    "    total += i\n",
    "print(\"Suma 1..10:\", total)\n",
    "\n",
    "# Cuenta regresiva con while\n",
    "c = 5\n",
    "while c > 0:\n",
    "    print(c)\n",
    "    c -= 1\n"
   ]
  },
  {
   "cell_type": "markdown",
   "metadata": {},
   "source": [
    "### Ejercicios\n",
    "- E1: Clasifica una nota (0–100) en A/B/C/D/F.\n",
    "- E2: Imprime la tabla de multiplicar de un número (1–10).\n",
    "- E3: Con `while`, pide números hasta 0; muestra suma y promedio.\n",
    "\n",
    "### Reto extra\n",
    "**FizzBuzz** de 1 a 100.\n"
   ]
  },
  {
   "cell_type": "code",
   "execution_count": null,
   "id": "b1c341f0",
   "metadata": {},
   "outputs": [],
   "source": [
    "nota = int(input(\"Escribe una nota (0-100): \"))\n",
    "\n",
    "if 90 <= nota <= 100:\n",
    "    print(\"Calificación: A\")\n",
    "elif 80 <= nota < 90:\n",
    "    print(\"Calificación: B\")\n",
    "elif 70 <= nota < 80:\n",
    "    print(\"Calificación: C\")\n",
    "elif 60 <= nota < 70:\n",
    "    print(\"Calificación: D\")\n",
    "elif 0 <= nota < 60:\n",
    "    print(\"Calificación: F\")\n",
    "else:\n",
    "    print(\"Nota fuera de rango\")"
   ]
  },
  {
   "cell_type": "code",
   "execution_count": null,
   "id": "46680349",
   "metadata": {},
   "outputs": [],
   "source": [
    "numero = int(input(\"Escribe un número para su tabla de multiplicar: \"))\n",
    "\n",
    "print(\"Tabla de multiplicar del\", numero)\n",
    "for m in range(1, 11):\n",
    "     print(numero, \"x\", m, \"=\", numero * m)"
   ]
  },
  {
   "cell_type": "code",
   "execution_count": null,
   "id": "b4b425ad",
   "metadata": {},
   "outputs": [],
   "source": [
    "suma = 0\n",
    "contador = 0\n",
    "\n",
    "while True:\n",
    "    numero = int(input(\"Escribe los número los cuales quiere realizar  la suma y el promedio, cuando ya no quiera ingresar mas numeros y ver resultados oprima: \"))\n",
    "    if numero == 0:\n",
    "        break\n",
    "    suma += numero\n",
    "    contador += 1\n",
    "\n",
    "if contador > 0:\n",
    "    promedio = suma / contador\n",
    "    print(\"Suma:\", suma)\n",
    "    print(\"Promedio:\", promedio)\n",
    "else:\n",
    "    print(\"No ingresaste números.\")"
   ]
  }
 ],
 "metadata": {
  "kernelspec": {
   "display_name": "Python 3",
   "language": "python",
   "name": "python3"
  },
  "language_info": {
   "name": "python",
   "version": "3.x"
  }
 },
 "nbformat": 4,
 "nbformat_minor": 5
}
