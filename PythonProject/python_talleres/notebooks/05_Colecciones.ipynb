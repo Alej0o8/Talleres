{
 "cells": [
  {
   "cell_type": "markdown",
   "metadata": {},
   "source": [
    "# 5) Colecciones: listas, tuplas y diccionarios\n",
    "\n",
    "## ¿Qué son?\n",
    "Estructuras para **agrupar datos**: secuencias (`list`, `tuple`) y mapeos (`dict`).\n",
    "\n",
    "## ¿Para qué se usan?\n",
    "Para **organizar, acceder y transformar** conjuntos de valores.\n",
    "\n",
    "## Puntos clave\n",
    "- `list` (mutable) — métodos como `append`, `pop`, `sort`.\n",
    "- `tuple` (inmutable) — útil para datos que no cambian.\n",
    "- `dict` (clave→valor) — acceso por clave y métodos `.items()`, `.keys()`.\n"
   ]
  },
  {
   "cell_type": "code",
   "execution_count": null,
   "metadata": {},
   "outputs": [],
   "source": [
    "comidas = [\"arepa\", \"ajiaco\", \"bandeja\"]\n",
    "comidas.append(\"sancocho\")\n",
    "print(\"Lista:\", comidas)\n",
    "\n",
    "punto = (10, 20)\n",
    "print(\"Tupla:\", punto[0], punto[1])\n",
    "\n",
    "persona = {\"nombre\": \"Ada\", \"edad\": 28, \"ciudad\": \"Bogotá\"}\n",
    "persona[\"edad\"] += 1\n",
    "for k, v in persona.items():\n",
    "    print(k, \"->\", v)\n"
   ]
  },
  {
   "cell_type": "markdown",
   "metadata": {},
   "source": [
    "### Ejercicios\n",
    "- E1: Lista de 5 números, calcula suma y promedio.\n",
    "- E2: Diccionario de 3 contactos (nombre→tel), consulta por nombre.\n",
    "- E3: Convierte lista de pares `(clave, valor)` en `dict` y recórrelo.\n",
    "\n",
    "### Reto extra\n",
    "**Inventario simple**: lista de dicts con `{\"producto\",\"precio\",\"stock\"}`. Muestra:\n",
    "- Total del inventario.\n",
    "- Producto más caro.\n"
   ]
  },
  {
   "cell_type": "code",
   "execution_count": null,
   "id": "ce3f8fea",
   "metadata": {},
   "outputs": [],
   "source": [
    "numeros = (10, 20, 30, 40, 50)\n",
    "\n",
    "suma = sum(numeros)\n",
    "promedio = suma / len(numeros)\n",
    "\n",
    "print(\"Números:\", numeros)\n",
    "print(\"Suma:\", suma)\n",
    "print(\"Promedio:\", promedio)"
   ]
  },
  {
   "cell_type": "code",
   "execution_count": null,
   "id": "bdcd0cdb",
   "metadata": {},
   "outputs": [],
   "source": [
    "contactos = {\n",
    "    \"Guillermo\": \"3126707335\",\n",
    "    \"Elsa\": \"3166213846\",\n",
    "    \"Alejandro\": \"316872882\"\n",
    "}\n",
    "\n",
    "nombre = input(\"Escribe el nombre del contacto (Elsa,Guillermo o Alejandro): \")\n",
    "\n",
    "if nombre in contactos:\n",
    "    print(\"Teléfono de\", nombre, \":\", contactos[nombre])\n",
    "else:\n",
    "    print(\"Contacto no encontrado.\")"
   ]
  },
  {
   "cell_type": "code",
   "execution_count": null,
   "id": "d180f679",
   "metadata": {},
   "outputs": [],
   "source": [
    "pares = [(\"Matemáticas\", 4.5), (\"Historia\", 3.8), (\"Inglés\", 4.2)]\n",
    "\n",
    "diccionario = dict(pares)\n",
    "\n",
    "print(\"Diccionario:\", diccionario)\n",
    "\n",
    "for materia, nota in diccionario.items():\n",
    "    print(materia, \"->\", nota)"
   ]
  }
 ],
 "metadata": {
  "kernelspec": {
   "display_name": "Python 3",
   "language": "python",
   "name": "python3"
  },
  "language_info": {
   "name": "python",
   "version": "3.x"
  }
 },
 "nbformat": 4,
 "nbformat_minor": 5
}
