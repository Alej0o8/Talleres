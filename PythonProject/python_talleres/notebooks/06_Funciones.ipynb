{
 "cells": [
  {
   "cell_type": "markdown",
   "metadata": {},
   "source": [
    "# 6) Funciones\n",
    "\n",
    "## ¿Qué son?\n",
    "Bloques reutilizables de código que **reciben parámetros** y **devuelven resultados**.\n",
    "\n",
    "## ¿Para qué se usan?\n",
    "Para **encapsular lógica**, evitar duplicación y mejorar claridad y pruebas.\n",
    "\n",
    "## Ideas clave\n",
    "- `def nombre(param...) -> retorno`\n",
    "- Valores por defecto, *docstrings*, pruebas simples\n",
    "- Ámbito: variables locales vs globales\n"
   ]
  },
  {
   "cell_type": "code",
   "execution_count": null,
   "metadata": {},
   "outputs": [],
   "source": [
    "def saluda(nombre: str) -> str:\n",
    "    \"\"\"Devuelve un saludo personalizado.\"\"\"\n",
    "    return f\"Hola, {nombre}!\"\n",
    "\n",
    "def potencia(base: float, exp: int = 2) -> float:\n",
    "    return base ** exp\n",
    "\n",
    "print(saluda(\"Ada\"))\n",
    "print(\"Potencia:\", potencia(3), potencia(2, 5))\n"
   ]
  },
  {
   "cell_type": "markdown",
   "metadata": {},
   "source": [
    "### Ejercicios\n",
    "- E1: `suma(a,b)` y `es_par(n)`.\n",
    "- E2: `promedio(numeros: list[float]) -> float`.\n",
    "- E3: `normaliza_nombre(s)`: quita espacios y capitaliza.\n",
    "\n",
    "### Reto extra\n",
    "`filtra_mayores(lista, umbral)` y `transforma(lista, f)` (simulan `filter`/`map`).\n"
   ]
  },
  {
   "cell_type": "code",
   "execution_count": null,
   "metadata": {},
   "outputs": [],
   "source": [
    "# Pista para promedio\n",
    "def promedio(nums):\n",
    "    return sum(nums) / len(nums) if nums else 0.0\n",
    "\n",
    "print(\"Promedio de [1,2,3]:\", promedio([1,2,3]))\n"
   ]
  },
  {
   "cell_type": "code",
   "execution_count": null,
   "id": "52111d88",
   "metadata": {},
   "outputs": [],
   "source": [
    "return a + b\n",
    "\n",
    "def es_par(n):\n",
    "    return n % 2 == 0\n",
    "\n",
    "\n",
    "a = int(input(\"Escribe el primer número: \"))\n",
    "b = int(input(\"Escribe el segundo número: \"))\n",
    "\n",
    "print(\"Suma:\", suma(a, b))\n",
    "\n",
    "n = int(input(\"Escribe un número para verificar si es par: \"))\n",
    "if es_par(n):\n",
    "    print(n, \"es par\")\n",
    "else:\n",
    "    print(n, \"es impar\")"
   ]
  },
  {
   "cell_type": "code",
   "execution_count": null,
   "id": "9a9df07c",
   "metadata": {},
   "outputs": [],
   "source": [
    "def promedio(numeros):\n",
    "    if len(numeros) == 0:\n",
    "        return 0\n",
    "    return sum(numeros) / len(numeros)\n",
    "\n",
    "\n",
    "numeros = input(\"Ingresa los números separados por espacios: \").split()\n",
    "\n",
    "for n in range(len(numeros)):\n",
    "    numeros[n] = float(numeros[n])\n",
    "\n",
    "\n",
    "print(\"Promedio:\", promedio(numeros))"
   ]
  },
  {
   "cell_type": "code",
   "execution_count": 1,
   "id": "87efbfba",
   "metadata": {},
   "outputs": [
    {
     "name": "stdout",
     "output_type": "stream",
     "text": [
      "Alejandro uribe\n"
     ]
    }
   ],
   "source": [
    "def normaliza_nombre(s: str) -> str:\n",
    "    \"\"\"Quita espacios al inicio/final y pone la primera letra en mayúscula\"\"\"\n",
    "    return s.strip().capitalize()\n",
    "\n",
    "# Ejemplo\n",
    "print(normaliza_nombre(\" Alejandro Uribe  \"))"
   ]
  }
 ],
 "metadata": {
  "kernelspec": {
   "display_name": "Python 3",
   "language": "python",
   "name": "python3"
  },
  "language_info": {
   "codemirror_mode": {
    "name": "ipython",
    "version": 3
   },
   "file_extension": ".py",
   "mimetype": "text/x-python",
   "name": "python",
   "nbconvert_exporter": "python",
   "pygments_lexer": "ipython3",
   "version": "3.11.9"
  }
 },
 "nbformat": 4,
 "nbformat_minor": 5
}
