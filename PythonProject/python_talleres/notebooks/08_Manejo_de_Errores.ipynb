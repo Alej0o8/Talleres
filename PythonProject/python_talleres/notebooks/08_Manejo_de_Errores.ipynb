{
 "cells": [
  {
   "cell_type": "markdown",
   "metadata": {},
   "source": [
    "# 8) Manejo de errores (excepciones)\n",
    "\n",
    "## ¿Qué es?\n",
    "Un **mecanismo para responder a fallos** en tiempo de ejecución sin romper el programa.\n",
    "\n",
    "## ¿Para qué se usa?\n",
    "Para **procesar entradas inválidas, errores de cálculo o recursos faltantes**.\n",
    "\n",
    "## Bloques útiles\n",
    "- `try`/`except` para capturar excepciones\n",
    "- `else` para código que corre si no hubo excepción\n",
    "- `finally` para limpieza\n",
    "- `raise` para lanzar errores propios\n"
   ]
  },
  {
   "cell_type": "code",
   "execution_count": null,
   "metadata": {},
   "outputs": [],
   "source": [
    "try:\n",
    "    n = int(\"42\")\n",
    "    print(\"Doble:\", n*2)\n",
    "except ValueError:\n",
    "    print(\"Entrada no válida.\")\n",
    "\n",
    "try:\n",
    "    x = 10 / 0\n",
    "except ZeroDivisionError:\n",
    "    print(\"No puedes dividir por cero.\")\n"
   ]
  },
  {
   "cell_type": "markdown",
   "metadata": {},
   "source": [
    "### Ejercicios\n",
    "- E1: Conversor robusto `str -> int` que reintente si falla.\n",
    "- E2: Calculadora con manejo de `ZeroDivisionError` y `ValueError`.\n",
    "- E3: Lector de opción de menú que solo acepta `1..4`.\n",
    "\n",
    "### Reto extra\n",
    "`leer_float(msg, intentos=3)` que reintente y lance excepción personalizada si se agotan intentos.\n"
   ]
  },
  {
   "cell_type": "code",
   "execution_count": null,
   "metadata": {},
   "outputs": [],
   "source": [
    "# Pista para el reto\n",
    "class IntentosAgotadosError(Exception):\n",
    "    pass\n",
    "\n",
    "def leer_float(msg, intentos=3):\n",
    "    for i in range(intentos):\n",
    "        try:\n",
    "            return float(input(msg))\n",
    "        except ValueError:\n",
    "            print(\"No es número. Intenta de nuevo.\")\n",
    "    raise IntentosAgotadosError(\"Se agotaron los intentos.\")\n"
   ]
  },
  {
   "cell_type": "code",
   "execution_count": null,
   "id": "c0c8cfd9",
   "metadata": {},
   "outputs": [],
   "source": [
    "while True:\n",
    "    valor = input(\"Ingresa un número entero: \")\n",
    "    try:\n",
    "        numero = int(valor)\n",
    "        print(\"Número ingresado:\", numero)\n",
    "        break\n",
    "    except ValueError:\n",
    "        print(\"Error: Debes ingresar un número entero. Intenta de nuevo.\")"
   ]
  },
  {
   "cell_type": "code",
   "execution_count": null,
   "id": "9cd7f1fd",
   "metadata": {},
   "outputs": [],
   "source": [
    "try:\n",
    "    a = float(input(\"Ingresa el primer número: \"))\n",
    "    b = float(input(\"Ingresa el segundo número: \"))\n",
    "    operacion = input(\"Ingresa la operación como el siguiente ejemplo (+, -, *, /): \")\n",
    "\n",
    "    if operacion == \"+\":\n",
    "        resultado = a + b\n",
    "    elif operacion == \"-\":\n",
    "        resultado = a - b\n",
    "    elif operacion == \"*\":\n",
    "        resultado = a * b\n",
    "    elif operacion == \"/\":\n",
    "        resultado = a / b\n",
    "    else:\n",
    "        raise ValueError(\"Operación no válida\")\n",
    "\n",
    "except ValueError as e:\n",
    "    print(\"Error:\", e)\n",
    "except ZeroDivisionError:\n",
    "    print(\"Error: No se puede dividir entre cero\")\n",
    "else:\n",
    "    print(\"Resultado:\", resultado)"
   ]
  },
  {
   "cell_type": "code",
   "execution_count": null,
   "id": "33f8725c",
   "metadata": {},
   "outputs": [],
   "source": [
    "while True:\n",
    "    opcion = input(\"Elige una opción (1 a 4): \")\n",
    "    \n",
    "    if opcion in [\"1\", \"2\", \"3\", \"4\"]:\n",
    "        print(\"Opción elegida:\", opcion)\n",
    "        break\n",
    "    else:\n",
    "        print(\"Opción inválida. Intenta nuevamente.\")"
   ]
  }
 ],
 "metadata": {
  "kernelspec": {
   "display_name": "Python 3",
   "language": "python",
   "name": "python3"
  },
  "language_info": {
   "name": "python",
   "version": "3.x"
  }
 },
 "nbformat": 4,
 "nbformat_minor": 5
}
