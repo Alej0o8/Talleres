{
 "cells": [
  {
   "cell_type": "markdown",
   "metadata": {},
   "source": [
    "# 9) Módulos y librerías estándar\n",
    "\n",
    "## ¿Qué son?\n",
    "Archivos y paquetes con **funciones reutilizables**. La **librería estándar** ofrece utilidades listas para usar.\n",
    "\n",
    "## ¿Para qué se usan?\n",
    "Para **no reinventar la rueda**: matemáticas, fechas, aleatoriedad, sistemas de archivos, etc.\n",
    "\n",
    "## Importar\n",
    "- `import modulo`\n",
    "- `from modulo import funcion`\n",
    "- Alias: `import modulo as m`\n"
   ]
  },
  {
   "cell_type": "code",
   "execution_count": null,
   "metadata": {},
   "outputs": [],
   "source": [
    "import math\n",
    "from datetime import datetime\n",
    "import random as rnd\n",
    "\n",
    "print(\"π ~\", math.pi, \"| sqrt(49) =\", math.sqrt(49))\n",
    "print(\"Ahora:\", datetime.now().strftime(\"%Y-%m-%d %H:%M\"))\n",
    "print(\"Aleatorio 1..10:\", rnd.randint(1,10))\n"
   ]
  },
  {
   "cell_type": "markdown",
   "metadata": {},
   "source": [
    "### Ejercicios\n",
    "- E1: Simula 100 lanzamientos de dado y cuenta frecuencias (dict).\n",
    "- E2: Calcula hipotenusa con `math.hypot(a,b)`.\n",
    "- E3: ¿Cuántos días faltan para fin de año?\n",
    "\n",
    "### Reto extra\n",
    "Juego **Piedra, Papel o Tijera** contra la máquina (mejor de 3).\n"
   ]
  },
  {
   "cell_type": "code",
   "execution_count": null,
   "id": "230f0efc",
   "metadata": {},
   "outputs": [],
   "source": [
    "import random\n",
    "\n",
    "frecuencias = {n: 0 for n in range(1, 7)}  \n",
    "\n",
    "for _ in range(100):\n",
    "    tiro = random.randint(1, 6) # simula un dado.\n",
    "    frecuencias[tiro] += 1\n",
    "\n",
    "print(\"Frecuencias de los lanzamientos:\")\n",
    "for numero, cuenta in frecuencias.items():\n",
    "    print(numero, \":\", cuenta)"
   ]
  },
  {
   "cell_type": "code",
   "execution_count": null,
   "id": "fa615996",
   "metadata": {},
   "outputs": [],
   "source": [
    "import math \n",
    "\n",
    "a = float(input(\"Ingresa el cateto a: \"))\n",
    "b = float(input(\"Ingresa el cateto b: \"))\n",
    "\n",
    "hipotenusa = math.hypot(a, b) #devuelve sqrt(a*2 + b*2) - formula origninal\n",
    "print(\"La hipotenusa es:\", hipotenusa)"
   ]
  },
  {
   "cell_type": "code",
   "execution_count": null,
   "id": "56b2307b",
   "metadata": {},
   "outputs": [],
   "source": [
    "from datetime import date\n",
    "\n",
    "hoy = date.today()\n",
    "fin_año = date(hoy.year, 12, 31)\n",
    "faltan = (fin_año - hoy).days\n",
    "\n",
    "print(\"Faltan\", faltan, \"días para fin de año.\")"
   ]
  }
 ],
 "metadata": {
  "kernelspec": {
   "display_name": "Python 3",
   "language": "python",
   "name": "python3"
  },
  "language_info": {
   "name": "python",
   "version": "3.x"
  }
 },
 "nbformat": 4,
 "nbformat_minor": 5
}
