{
 "cells": [
  {
   "cell_type": "markdown",
   "metadata": {},
   "source": [
    "# 7) Entrada/Salida y formateo\n",
    "\n",
    "## ¿Qué es?\n",
    "La **interacción por consola**: leer con `input()` y mostrar con `print()`.\n",
    "\n",
    "## ¿Para qué se usa?\n",
    "Para **recoger datos del usuario** y **presentar resultados** con buen formato.\n",
    "\n",
    "## Claves de formateo\n",
    "- f-strings: `f\"{valor:.2f}\"`\n",
    "- `sep` y `end` en `print`\n",
    "- Conversión explícita de tipos al leer (`int`, `float`)\n"
   ]
  },
  {
   "cell_type": "code",
   "execution_count": null,
   "metadata": {},
   "outputs": [],
   "source": [
    "# Suma con formateo\n",
    "a = 12.3456\n",
    "b = 7.8\n",
    "print(f\"Suma: {a + b:.2f}\")\n",
    "print(\"uno\", \"dos\", \"tres\", sep=\" | \", end=\".\n",
    "\")\n"
   ]
  },
  {
   "cell_type": "markdown",
   "metadata": {},
   "source": [
    "### Ejercicios\n",
    "- E1: Pide nombre y año de nacimiento; calcula edad.\n",
    "- E2: Factura: subtotal, IVA (19%), total con 2 decimales.\n",
    "- E3: “Ficha” multi-línea con `\\n` y f-strings.\n",
    "\n",
    "### Reto extra\n",
    "Lee tres notas y muestra promedio, mínima, máxima y si aprueba (>=3.0).\n"
   ]
  },
  {
   "cell_type": "code",
   "execution_count": null,
   "id": "d189e01e",
   "metadata": {},
   "outputs": [],
   "source": [
    "nombre = input(\"Ingresa tu nombre: \")\n",
    "año_nacimiento = int(input(\"Ingresa tu año de nacimiento en numero: \"))\n",
    "\n",
    "edad = 2025 - año_nacimiento\n",
    "\n",
    "print(nombre,\"tiene\",edad, \"años.\")"
   ]
  },
  {
   "cell_type": "code",
   "execution_count": null,
   "id": "221d34a9",
   "metadata": {},
   "outputs": [],
   "source": [
    "subtotal = float(input(\"Ingresa el subtotal de la factura: \"))\n",
    "\n",
    "iva = subtotal * 0.19\n",
    "total = subtotal + iva\n",
    "\n",
    "\n",
    "print(\"Subtotal:\", format(subtotal, \".2f\"))\n",
    "print(\"IVA (19%):\", format(iva, \".2f\"))\n",
    "print(\"Total:\", format(total, \".2f\"))"
   ]
  },
  {
   "cell_type": "code",
   "execution_count": null,
   "id": "6699b2f0",
   "metadata": {},
   "outputs": [],
   "source": [
    "nombre = input(\"Ingrese el nombre: \")\n",
    "edad = int(input(\"Ingrese la edad: \"))\n",
    "ciudad = input(\"Ingrese la ciudad: \")\n",
    "\n",
    "ficha = \"Ficha del estudiante:\\nNombre: \" + nombre + \"\\nEdad: \" + str(edad) + \"\\nCiudad: \" + ciudad\n",
    "print(ficha)"
   ]
  }
 ],
 "metadata": {
  "kernelspec": {
   "display_name": "Python 3",
   "language": "python",
   "name": "python3"
  },
  "language_info": {
   "name": "python",
   "version": "3.x"
  }
 },
 "nbformat": 4,
 "nbformat_minor": 5
}
